{
 "cells": [
  {
   "cell_type": "markdown",
   "metadata": {},
   "source": [
    "#### Notebook Summary\n",
    "\n",
    "02 contains modelling and final results\n",
    "\n",
    "## Index\n",
    "- [Count Vectorizer](#Count-Vectorizer)\n",
    "- [Model Performance Function](#Model-Performance-Function)\n",
    "- [Modelling](#Modelling)\n",
    "- [N-Gram Features](#N-Gram-Features)\n",
    "- [Modelling with TFIDF Transformation](#Modelling-with-TFIDF-Transformation)\n",
    "- [Model Examination](#Model-Examination)\n",
    "- [Conclusion](#Conclusion)\n"
   ]
  },
  {
   "cell_type": "code",
   "execution_count": 1,
   "metadata": {},
   "outputs": [
    {
     "name": "stderr",
     "output_type": "stream",
     "text": [
      "C:\\sdm\\system\\anaconda\\lib\\site-packages\\sklearn\\ensemble\\weight_boosting.py:29: DeprecationWarning: numpy.core.umath_tests is an internal NumPy module and should not be imported. It will be removed in a future NumPy release.\n",
      "  from numpy.core.umath_tests import inner1d\n",
      "C:\\sdm\\system\\anaconda\\lib\\site-packages\\sklearn\\cross_validation.py:41: DeprecationWarning: This module was deprecated in version 0.18 in favor of the model_selection module into which all the refactored classes and functions are moved. Also note that the interface of the new CV iterators are different from that of this module. This module will be removed in 0.20.\n",
      "  \"This module will be removed in 0.20.\", DeprecationWarning)\n"
     ]
    }
   ],
   "source": [
    "# imports\n",
    "\n",
    "from sklearn.feature_extraction.text import CountVectorizer, TfidfVectorizer\n",
    "from sklearn.ensemble import RandomForestClassifier\n",
    "from sklearn.linear_model import SGDClassifier\n",
    "from sklearn.model_selection import train_test_split\n",
    "from sklearn.cross_validation import cross_val_score\n",
    "import seaborn as sns\n",
    "import pandas as pd\n",
    "import matplotlib.pyplot as plt\n",
    "import numpy as np\n",
    "from sklearn.metrics import classification_report, confusion_matrix, accuracy_score\n",
    "import itertools\n",
    "import warnings\n",
    "warnings.filterwarnings('ignore')\n",
    "\n",
    "%matplotlib inline"
   ]
  },
  {
   "cell_type": "code",
   "execution_count": 2,
   "metadata": {},
   "outputs": [],
   "source": [
    "df_1 = pd.read_csv('./Data/data1.csv')\n",
    "df_2 = pd.read_csv('./Data/data2.csv')\n",
    "df_1.drop('Unnamed: 0', axis=1, inplace=True)\n",
    "df_2.drop('Unnamed: 0', axis=1, inplace=True)"
   ]
  },
  {
   "cell_type": "code",
   "execution_count": 3,
   "metadata": {},
   "outputs": [
    {
     "data": {
      "text/html": [
       "<div>\n",
       "<style scoped>\n",
       "    .dataframe tbody tr th:only-of-type {\n",
       "        vertical-align: middle;\n",
       "    }\n",
       "\n",
       "    .dataframe tbody tr th {\n",
       "        vertical-align: top;\n",
       "    }\n",
       "\n",
       "    .dataframe thead th {\n",
       "        text-align: right;\n",
       "    }\n",
       "</style>\n",
       "<table border=\"1\" class=\"dataframe\">\n",
       "  <thead>\n",
       "    <tr style=\"text-align: right;\">\n",
       "      <th></th>\n",
       "      <th>Comment</th>\n",
       "    </tr>\n",
       "  </thead>\n",
       "  <tbody>\n",
       "    <tr>\n",
       "      <th>0</th>\n",
       "      <td>every december, the admins give reddit moderat...</td>\n",
       "    </tr>\n",
       "    <tr>\n",
       "      <th>1</th>\n",
       "      <td>**greetings!**\\r\\n\\*^(\\*rules and conditions m...</td>\n",
       "    </tr>\n",
       "    <tr>\n",
       "      <th>2</th>\n",
       "      <td>to establish a branch office!</td>\n",
       "    </tr>\n",
       "    <tr>\n",
       "      <th>3</th>\n",
       "      <td>this is not a new idea, but it has become espe...</td>\n",
       "    </tr>\n",
       "    <tr>\n",
       "      <th>4</th>\n",
       "      <td>a lot of perks and what not have things \"we\" a...</td>\n",
       "    </tr>\n",
       "  </tbody>\n",
       "</table>\n",
       "</div>"
      ],
      "text/plain": [
       "                                             Comment\n",
       "0  every december, the admins give reddit moderat...\n",
       "1  **greetings!**\\r\\n\\*^(\\*rules and conditions m...\n",
       "2                      to establish a branch office!\n",
       "3  this is not a new idea, but it has become espe...\n",
       "4  a lot of perks and what not have things \"we\" a..."
      ]
     },
     "execution_count": 3,
     "metadata": {},
     "output_type": "execute_result"
    }
   ],
   "source": [
    "df_1.head()"
   ]
  },
  {
   "cell_type": "code",
   "execution_count": 4,
   "metadata": {},
   "outputs": [],
   "source": [
    "df_1['Type'] = 'Stellaris'"
   ]
  },
  {
   "cell_type": "code",
   "execution_count": 5,
   "metadata": {},
   "outputs": [],
   "source": [
    "df_2['Type'] = 'DwarfFort'"
   ]
  },
  {
   "cell_type": "code",
   "execution_count": 6,
   "metadata": {},
   "outputs": [],
   "source": [
    "df = df_1.append(df_2)"
   ]
  },
  {
   "cell_type": "code",
   "execution_count": 7,
   "metadata": {},
   "outputs": [],
   "source": [
    "df.reset_index(inplace=True, drop=True)"
   ]
  },
  {
   "cell_type": "code",
   "execution_count": 8,
   "metadata": {
    "scrolled": true
   },
   "outputs": [
    {
     "data": {
      "text/html": [
       "<div>\n",
       "<style scoped>\n",
       "    .dataframe tbody tr th:only-of-type {\n",
       "        vertical-align: middle;\n",
       "    }\n",
       "\n",
       "    .dataframe tbody tr th {\n",
       "        vertical-align: top;\n",
       "    }\n",
       "\n",
       "    .dataframe thead th {\n",
       "        text-align: right;\n",
       "    }\n",
       "</style>\n",
       "<table border=\"1\" class=\"dataframe\">\n",
       "  <thead>\n",
       "    <tr style=\"text-align: right;\">\n",
       "      <th></th>\n",
       "      <th>Comment</th>\n",
       "      <th>Type</th>\n",
       "    </tr>\n",
       "  </thead>\n",
       "  <tbody>\n",
       "    <tr>\n",
       "      <th>1082</th>\n",
       "      <td>i really like watching df streams, so if you k...</td>\n",
       "      <td>DwarfFort</td>\n",
       "    </tr>\n",
       "    <tr>\n",
       "      <th>1083</th>\n",
       "      <td>i have been a fan of df now for around 5-6 yea...</td>\n",
       "      <td>DwarfFort</td>\n",
       "    </tr>\n",
       "    <tr>\n",
       "      <th>1084</th>\n",
       "      <td>hey dwarfs!\\r\\n\\r\\ni'm the guy who started a f...</td>\n",
       "      <td>DwarfFort</td>\n",
       "    </tr>\n",
       "    <tr>\n",
       "      <th>1085</th>\n",
       "      <td>i sent my dwarves to go pillage some elf villa...</td>\n",
       "      <td>DwarfFort</td>\n",
       "    </tr>\n",
       "    <tr>\n",
       "      <th>1086</th>\n",
       "      <td>(entirely default df, with only a few changes ...</td>\n",
       "      <td>DwarfFort</td>\n",
       "    </tr>\n",
       "  </tbody>\n",
       "</table>\n",
       "</div>"
      ],
      "text/plain": [
       "                                                Comment       Type\n",
       "1082  i really like watching df streams, so if you k...  DwarfFort\n",
       "1083  i have been a fan of df now for around 5-6 yea...  DwarfFort\n",
       "1084  hey dwarfs!\\r\\n\\r\\ni'm the guy who started a f...  DwarfFort\n",
       "1085  i sent my dwarves to go pillage some elf villa...  DwarfFort\n",
       "1086  (entirely default df, with only a few changes ...  DwarfFort"
      ]
     },
     "execution_count": 8,
     "metadata": {},
     "output_type": "execute_result"
    }
   ],
   "source": [
    "df.tail()"
   ]
  },
  {
   "cell_type": "markdown",
   "metadata": {},
   "source": [
    "## Count Vectorizer\n",
    "\n",
    "Count vectorizer will be used to convert our Reddit comments into matrices of frequency counts per words in each comment."
   ]
  },
  {
   "cell_type": "code",
   "execution_count": 9,
   "metadata": {},
   "outputs": [],
   "source": [
    "X = df['Comment']\n",
    "y = df['Type']\n",
    "\n",
    "X_train, X_test, y_train, y_test = train_test_split(X, y)"
   ]
  },
  {
   "cell_type": "code",
   "execution_count": 10,
   "metadata": {},
   "outputs": [],
   "source": [
    "count_vect = CountVectorizer(max_features=10000, \n",
    "                             stop_words='english')\n",
    "X_train_counts = count_vect.fit_transform(X_train)\n",
    "X_test_counts = count_vect.transform(X_test)"
   ]
  },
  {
   "cell_type": "code",
   "execution_count": 11,
   "metadata": {},
   "outputs": [
    {
     "data": {
      "text/plain": [
       "(815, 10000)"
      ]
     },
     "execution_count": 11,
     "metadata": {},
     "output_type": "execute_result"
    }
   ],
   "source": [
    "X_train_counts.shape"
   ]
  },
  {
   "cell_type": "code",
   "execution_count": 12,
   "metadata": {},
   "outputs": [
    {
     "data": {
      "text/plain": [
       "(272, 10000)"
      ]
     },
     "execution_count": 12,
     "metadata": {},
     "output_type": "execute_result"
    }
   ],
   "source": [
    "X_test_counts.shape"
   ]
  },
  {
   "cell_type": "code",
   "execution_count": 13,
   "metadata": {},
   "outputs": [
    {
     "data": {
      "text/plain": [
       "(815,)"
      ]
     },
     "execution_count": 13,
     "metadata": {},
     "output_type": "execute_result"
    }
   ],
   "source": [
    "y_train.shape"
   ]
  },
  {
   "cell_type": "code",
   "execution_count": 14,
   "metadata": {},
   "outputs": [
    {
     "data": {
      "text/plain": [
       "(272,)"
      ]
     },
     "execution_count": 14,
     "metadata": {},
     "output_type": "execute_result"
    }
   ],
   "source": [
    "y_test.shape"
   ]
  },
  {
   "cell_type": "code",
   "execution_count": 15,
   "metadata": {},
   "outputs": [
    {
     "data": {
      "text/plain": [
       "build          1\n",
       "try            1\n",
       "expansion      0\n",
       "expecting      0\n",
       "expected       0\n",
       "expectation    0\n",
       "expect         0\n",
       "expansive      0\n",
       "expansions     0\n",
       "expands        0\n",
       "Name: 0, dtype: int64"
      ]
     },
     "execution_count": 15,
     "metadata": {},
     "output_type": "execute_result"
    }
   ],
   "source": [
    "# displaying word counts for specific comments in the combined train dataset\n",
    "\n",
    "text = pd.DataFrame(X_train_counts.toarray(), columns = count_vect.get_feature_names())\n",
    "text.iloc[0].sort_values(0, ascending=False).head(10)"
   ]
  },
  {
   "cell_type": "code",
   "execution_count": 16,
   "metadata": {},
   "outputs": [
    {
     "data": {
      "text/plain": [
       "[('amp', 568),\n",
       " ('game', 533),\n",
       " ('just', 474),\n",
       " ('x200b', 463),\n",
       " ('like', 409),\n",
       " ('new', 357),\n",
       " ('empire', 351),\n",
       " ('https', 306),\n",
       " ('planets', 258),\n",
       " ('pops', 256),\n",
       " ('ve', 255),\n",
       " ('time', 250),\n",
       " ('planet', 228),\n",
       " ('make', 226),\n",
       " ('fortress', 224),\n",
       " ('com', 208),\n",
       " ('don', 204),\n",
       " ('know', 197),\n",
       " ('empires', 186),\n",
       " ('jobs', 181)]"
      ]
     },
     "execution_count": 16,
     "metadata": {},
     "output_type": "execute_result"
    }
   ],
   "source": [
    "# displaying word count sums for all comments in the combined train dataset\n",
    "\n",
    "sum_words = X_train_counts.sum(axis=0)\n",
    "words_freq = [(word, sum_words[0, idx]) for word, idx in count_vect.vocabulary_.items()]\n",
    "words_freq =sorted(words_freq, key = lambda x: x[1], reverse=True)\n",
    "words_freq[:20]"
   ]
  },
  {
   "cell_type": "code",
   "execution_count": 17,
   "metadata": {
    "scrolled": true
   },
   "outputs": [
    {
     "data": {
      "text/plain": [
       "[('game', 534),\n",
       " ('empire', 436),\n",
       " ('just', 401),\n",
       " ('amp', 387),\n",
       " ('like', 375),\n",
       " ('x200b', 370),\n",
       " ('planets', 325),\n",
       " ('pops', 319),\n",
       " ('planet', 303),\n",
       " ('new', 263),\n",
       " ('ve', 227),\n",
       " ('empires', 220),\n",
       " ('jobs', 202),\n",
       " ('don', 199),\n",
       " ('energy', 193),\n",
       " ('make', 192),\n",
       " ('time', 181),\n",
       " ('war', 180),\n",
       " ('species', 171),\n",
       " ('trade', 171)]"
      ]
     },
     "execution_count": 17,
     "metadata": {},
     "output_type": "execute_result"
    }
   ],
   "source": [
    "# displaying most common words in the df_1 set (Stellaris)\n",
    "\n",
    "count_vect_df1 = CountVectorizer(max_features=10000, \n",
    "                             stop_words='english')\n",
    "df1_cv = count_vect_df1.fit_transform(df_1['Comment'])\n",
    "sum_words = df1_cv.sum(axis=0)\n",
    "words_freq = [(word, sum_words[0, idx]) for word, idx in count_vect_df1.vocabulary_.items()]\n",
    "words_freq =sorted(words_freq, key = lambda x: x[1], reverse=True)\n",
    "words_freq[:20]"
   ]
  },
  {
   "cell_type": "code",
   "execution_count": 18,
   "metadata": {},
   "outputs": [
    {
     "data": {
      "image/png": "[encoded data removed]",
      "text/plain": [
       "<Figure size 1080x576 with 1 Axes>"
      ]
     },
     "metadata": {
      "needs_background": "light"
     },
     "output_type": "display_data"
    }
   ],
   "source": [
    "word = list(zip(*words_freq[:20]))[0]\n",
    "freq = list(zip(*words_freq[:20]))[1]\n",
    "x_pos = np.arange(len(words_freq[:20])) \n",
    "\n",
    "plt.figure(figsize=(15,8))\n",
    "plt.bar(x_pos, freq, align='center')\n",
    "plt.xticks(x_pos, word) \n",
    "plt.title('Stellaris Reddit Word Frequency')\n",
    "plt.ylabel('Word Frequency')\n",
    "plt.xlabel('Word')\n",
    "plt.show()"
   ]
  },
  {
   "cell_type": "code",
   "execution_count": 19,
   "metadata": {},
   "outputs": [
    {
     "data": {
      "text/plain": [
       "[('amp', 315),\n",
       " ('https', 265),\n",
       " ('fortress', 260),\n",
       " ('just', 207),\n",
       " ('x200b', 205),\n",
       " ('dwarf', 185),\n",
       " ('game', 183),\n",
       " ('new', 177),\n",
       " ('com', 164),\n",
       " ('like', 152),\n",
       " ('dwarves', 149),\n",
       " ('time', 135),\n",
       " ('know', 117),\n",
       " ('df', 114),\n",
       " ('www', 110),\n",
       " ('search', 101),\n",
       " ('world', 101),\n",
       " ('png', 99),\n",
       " ('ve', 94),\n",
       " ('make', 94)]"
      ]
     },
     "execution_count": 19,
     "metadata": {},
     "output_type": "execute_result"
    }
   ],
   "source": [
    "# displaying most common words in the df_2 set (Dwarf Fortress)\n",
    "\n",
    "count_vect_df2 = CountVectorizer(max_features=10000, \n",
    "                             stop_words='english')\n",
    "df2_cv = count_vect_df1.fit_transform(df_2['Comment'])\n",
    "sum_words = df2_cv.sum(axis=0)\n",
    "words_freq = [(word, sum_words[0, idx]) for word, idx in count_vect_df1.vocabulary_.items()]\n",
    "words_freq =sorted(words_freq, key = lambda x: x[1], reverse=True)\n",
    "words_freq[:20]"
   ]
  },
  {
   "cell_type": "code",
   "execution_count": 20,
   "metadata": {},
   "outputs": [
    {
     "data": {
      "image/png": "[encoded data removed]",
      "text/plain": [
       "<Figure size 1080x576 with 1 Axes>"
      ]
     },
     "metadata": {
      "needs_background": "light"
     },
     "output_type": "display_data"
    }
   ],
   "source": [
    "word = list(zip(*words_freq[:20]))[0]\n",
    "freq = list(zip(*words_freq[:20]))[1]\n",
    "x_pos = np.arange(len(words_freq[:20])) \n",
    "\n",
    "plt.figure(figsize=(15,8))\n",
    "plt.bar(x_pos, freq, align='center')\n",
    "plt.xticks(x_pos, word) \n",
    "plt.title('Dwarf Fortress Reddit Word Frequency')\n",
    "plt.ylabel('Word Frequency')\n",
    "plt.xlabel('Word')\n",
    "plt.show()"
   ]
  },
  {
   "cell_type": "markdown",
   "metadata": {},
   "source": [
    "## Model Performance Function\n",
    "\n",
    "A function below will be defined, which will output a selection of standard model evaluation metrics."
   ]
  },
  {
   "cell_type": "code",
   "execution_count": 21,
   "metadata": {},
   "outputs": [],
   "source": [
    "def performance(model, X_train_p, X_test_p):\n",
    "    y_pred = model.fit(X_train_p, y_train).predict(X_test_p)\n",
    "    y_true = y_test\n",
    "    \n",
    "    print('Classification Report:')\n",
    "    print(classification_report(y_true, y_pred))\n",
    "    print('Accuracy Score train:')\n",
    "    print(model.score(X_train_p, y_train))\n",
    "    print('Accuracy Score test:')\n",
    "    print(model.score(X_test_p, y_test))\n",
    "    \n",
    "    # Compute confusion matrix\n",
    "    plt.figure()\n",
    "    cnf_matrix = confusion_matrix(y_test, y_pred)\n",
    "    cm = cnf_matrix\n",
    "    np.set_printoptions(precision=2)\n",
    "    classes=set(y)\n",
    "    normalize=True\n",
    "    cmap=plt.cm.Blues\n",
    "    \n",
    "    # create plots\n",
    "    title='Confusion matrix'\n",
    "    plt.imshow(cm, interpolation='nearest', cmap=cmap)\n",
    "    plt.title(title)\n",
    "    plt.colorbar()\n",
    "    tick_marks = np.arange(len(classes))\n",
    "    plt.xticks(tick_marks, classes, rotation=45)\n",
    "    plt.yticks(tick_marks, classes)\n",
    "    fmt = '.2f' if normalize else 'd'\n",
    "    thresh = cm.max() / 2.\n",
    "    for i, j in itertools.product(range(cm.shape[0]), range(cm.shape[1])):\n",
    "        plt.text(j, i, format(cm[i, j], fmt),\n",
    "                 horizontalalignment=\"center\",\n",
    "                 color=\"white\" if cm[i, j] > thresh else \"black\")\n",
    "    plt.ylabel('True label')\n",
    "    plt.xlabel('Predicted label')\n",
    "    plt.tight_layout()\n",
    "    # Compute confusion matrix\n",
    "    cnf_matrix = confusion_matrix(y_test, y_pred)\n",
    "    np.set_printoptions(precision=2)\n",
    "    # Plot nnormalized confusion matrix\n",
    "    plt.figure();\n",
    "    \n",
    "    title='Normalized confusion matrix'\n",
    "    cm = cm.astype('float') / cm.sum(axis=1)[:, np.newaxis]\n",
    "    plt.imshow(cm, interpolation='nearest', cmap=cmap)\n",
    "    plt.title(title)\n",
    "    plt.colorbar()\n",
    "    tick_marks = np.arange(len(classes))\n",
    "    plt.xticks(tick_marks, classes, rotation=45)\n",
    "    plt.yticks(tick_marks, classes)\n",
    "    fmt = '.2f' if normalize else 'd'\n",
    "    thresh = cm.max() / 2.\n",
    "    for i, j in itertools.product(range(cm.shape[0]), range(cm.shape[1])):\n",
    "        plt.text(j, i, format(cm[i, j], fmt),\n",
    "                 horizontalalignment=\"center\",\n",
    "                 color=\"white\" if cm[i, j] > thresh else \"black\")\n",
    "    plt.ylabel('True label')\n",
    "    plt.xlabel('Predicted label')\n",
    "    plt.tight_layout()\n",
    "    # Compute confusion matrix\n",
    "    cnf_matrix = confusion_matrix(y_test, y_pred)\n",
    "    np.set_printoptions(precision=2)\n",
    "    # Plot nnormalized confusion matrix\n",
    "    plt.figure();\n",
    "    \n",
    "    plt.show();"
   ]
  },
  {
   "cell_type": "markdown",
   "metadata": {},
   "source": [
    "## Modelling\n",
    "\n",
    "Two models will be tested (no hyperparameter tuning), performance on the train/test split will be reviewed.  A short manual docstring will be tested first on each model to see if they can correctly predict a customized comment in the correct Reddit category."
   ]
  },
  {
   "cell_type": "markdown",
   "metadata": {},
   "source": [
    "### Docstring Tester"
   ]
  },
  {
   "cell_type": "code",
   "execution_count": 22,
   "metadata": {},
   "outputs": [],
   "source": [
    "# creating two test phrases to enter into each model\n",
    "docs_new = ['Spaceship alien laser planet federation research interceptor xenophile', \n",
    "            'Ettin sword dwarf blacksmith goblin siege crossbow bay12 megabeast dig']\n",
    "\n",
    "X_new_counts = count_vect.transform(docs_new)"
   ]
  },
  {
   "cell_type": "code",
   "execution_count": 23,
   "metadata": {},
   "outputs": [
    {
     "name": "stdout",
     "output_type": "stream",
     "text": [
      "'Spaceship alien laser planet federation research interceptor xenophile' => Stellaris\n",
      "'Ettin sword dwarf blacksmith goblin siege crossbow bay12 megabeast dig' => Stellaris\n"
     ]
    }
   ],
   "source": [
    "rf = RandomForestClassifier(n_estimators=1000, max_depth=5)\n",
    "rf.fit(X=X_train_counts, y=y_train)\n",
    "\n",
    "predicted = rf.predict(X_new_counts)\n",
    "for doc, category in zip(docs_new, predicted):\n",
    "    print('%r => %s' % (doc, category))"
   ]
  },
  {
   "cell_type": "code",
   "execution_count": 24,
   "metadata": {},
   "outputs": [
    {
     "name": "stdout",
     "output_type": "stream",
     "text": [
      "'Spaceship alien laser planet federation research interceptor xenophile' => Stellaris\n",
      "'Ettin sword dwarf blacksmith goblin siege crossbow bay12 megabeast dig' => DwarfFort\n"
     ]
    }
   ],
   "source": [
    "sgd = SGDClassifier()\n",
    "sgd.fit(X_train_counts, y_train)\n",
    "\n",
    "predicted = sgd.predict(X_new_counts)\n",
    "for doc, category in zip(docs_new, predicted):\n",
    "    print('%r => %s' % (doc, category))"
   ]
  },
  {
   "cell_type": "markdown",
   "metadata": {},
   "source": [
    "### Model Performance Testing"
   ]
  },
  {
   "cell_type": "markdown",
   "metadata": {},
   "source": [
    "#### Random Forest Classifier"
   ]
  },
  {
   "cell_type": "code",
   "execution_count": 25,
   "metadata": {},
   "outputs": [
    {
     "name": "stdout",
     "output_type": "stream",
     "text": [
      "Classification Report:\n",
      "             precision    recall  f1-score   support\n",
      "\n",
      "  DwarfFort       1.00      0.17      0.29        82\n",
      "  Stellaris       0.74      1.00      0.85       190\n",
      "\n",
      "avg / total       0.82      0.75      0.68       272\n",
      "\n",
      "Accuracy Score train:\n",
      "0.7766871165644171\n",
      "Accuracy Score test:\n",
      "0.75\n"
     ]
    },
    {
     "data": {
      "image/png": "[encoded data removed]",
      "text/plain": [
       "<Figure size 432x288 with 2 Axes>"
      ]
     },
     "metadata": {
      "needs_background": "light"
     },
     "output_type": "display_data"
    },
    {
     "data": {
      "image/png": "[encoded data removed]",
      "text/plain": [
       "<Figure size 432x288 with 2 Axes>"
      ]
     },
     "metadata": {
      "needs_background": "light"
     },
     "output_type": "display_data"
    },
    {
     "data": {
      "text/plain": [
       "<Figure size 432x288 with 0 Axes>"
      ]
     },
     "metadata": {},
     "output_type": "display_data"
    }
   ],
   "source": [
    "# instance model\n",
    "model = RandomForestClassifier(n_estimators=1000, max_depth=5)\n",
    "# fit model\n",
    "model.fit(X=X_train_counts, y=y_train)\n",
    "\n",
    "performance(model, X_train_counts, X_test_counts)"
   ]
  },
  {
   "cell_type": "markdown",
   "metadata": {},
   "source": [
    "#### SGD Classifier"
   ]
  },
  {
   "cell_type": "code",
   "execution_count": 26,
   "metadata": {},
   "outputs": [
    {
     "name": "stdout",
     "output_type": "stream",
     "text": [
      "Classification Report:\n",
      "             precision    recall  f1-score   support\n",
      "\n",
      "  DwarfFort       0.90      0.88      0.89        82\n",
      "  Stellaris       0.95      0.96      0.95       190\n",
      "\n",
      "avg / total       0.93      0.93      0.93       272\n",
      "\n",
      "Accuracy Score train:\n",
      "0.992638036809816\n",
      "Accuracy Score test:\n",
      "0.9338235294117647\n"
     ]
    },
    {
     "data": {
      "image/png": "[encoded data removed]",
      "text/plain": [
       "<Figure size 432x288 with 2 Axes>"
      ]
     },
     "metadata": {
      "needs_background": "light"
     },
     "output_type": "display_data"
    },
    {
     "data": {
      "image/png": "[encoded data removed]",
      "text/plain": [
       "<Figure size 432x288 with 2 Axes>"
      ]
     },
     "metadata": {
      "needs_background": "light"
     },
     "output_type": "display_data"
    },
    {
     "data": {
      "text/plain": [
       "<Figure size 432x288 with 0 Axes>"
      ]
     },
     "metadata": {},
     "output_type": "display_data"
    }
   ],
   "source": [
    "# instance model\n",
    "model = SGDClassifier()\n",
    "# fit model\n",
    "model.fit(X=X_train_counts, y=y_train)\n",
    "\n",
    "performance(model, X_train_counts, X_test_counts)"
   ]
  },
  {
   "cell_type": "markdown",
   "metadata": {},
   "source": [
    "## N-Gram Features\n",
    "\n",
    "Potentially we may be losing important context of the sentances when we're reviewing each word as if they were independent of each other.  N-gram features will be tested to see if we gain any additional accuracy but breaking up words into dependent groups."
   ]
  },
  {
   "cell_type": "code",
   "execution_count": 27,
   "metadata": {},
   "outputs": [],
   "source": [
    "count_vect = CountVectorizer(max_features=10000,\n",
    "                             stop_words='english',\n",
    "                            ngram_range=(2,4))\n",
    "X_train_counts = count_vect.fit_transform(X_train)\n",
    "X_test_counts = count_vect.transform(X_test)"
   ]
  },
  {
   "cell_type": "code",
   "execution_count": 28,
   "metadata": {},
   "outputs": [
    {
     "data": {
      "text/html": [
       "<div>\n",
       "<style scoped>\n",
       "    .dataframe tbody tr th:only-of-type {\n",
       "        vertical-align: middle;\n",
       "    }\n",
       "\n",
       "    .dataframe tbody tr th {\n",
       "        vertical-align: top;\n",
       "    }\n",
       "\n",
       "    .dataframe thead th {\n",
       "        text-align: right;\n",
       "    }\n",
       "</style>\n",
       "<table border=\"1\" class=\"dataframe\">\n",
       "  <thead>\n",
       "    <tr style=\"text-align: right;\">\n",
       "      <th></th>\n",
       "      <th>000cm³ probably</th>\n",
       "      <th>000cm³ probably fine</th>\n",
       "      <th>000cm³ probably fine training</th>\n",
       "      <th>01 https</th>\n",
       "      <th>01 https imgur</th>\n",
       "      <th>01 https imgur com</th>\n",
       "      <th>02 https</th>\n",
       "      <th>02 https imgur</th>\n",
       "      <th>02 https imgur com</th>\n",
       "      <th>03 https</th>\n",
       "      <th>...</th>\n",
       "      <th>youtube user</th>\n",
       "      <th>youtube user page</th>\n",
       "      <th>youtube user page thanks</th>\n",
       "      <th>youtuber lolz</th>\n",
       "      <th>yup moody</th>\n",
       "      <th>yup moody dorfs</th>\n",
       "      <th>yup moody dorfs build</th>\n",
       "      <th>zombies later</th>\n",
       "      <th>zombies later horned</th>\n",
       "      <th>zombies later horned web</th>\n",
       "    </tr>\n",
       "  </thead>\n",
       "  <tbody>\n",
       "    <tr>\n",
       "      <th>810</th>\n",
       "      <td>0</td>\n",
       "      <td>0</td>\n",
       "      <td>0</td>\n",
       "      <td>0</td>\n",
       "      <td>0</td>\n",
       "      <td>0</td>\n",
       "      <td>0</td>\n",
       "      <td>0</td>\n",
       "      <td>0</td>\n",
       "      <td>0</td>\n",
       "      <td>...</td>\n",
       "      <td>0</td>\n",
       "      <td>0</td>\n",
       "      <td>0</td>\n",
       "      <td>0</td>\n",
       "      <td>0</td>\n",
       "      <td>0</td>\n",
       "      <td>0</td>\n",
       "      <td>0</td>\n",
       "      <td>0</td>\n",
       "      <td>0</td>\n",
       "    </tr>\n",
       "    <tr>\n",
       "      <th>811</th>\n",
       "      <td>0</td>\n",
       "      <td>0</td>\n",
       "      <td>0</td>\n",
       "      <td>0</td>\n",
       "      <td>0</td>\n",
       "      <td>0</td>\n",
       "      <td>0</td>\n",
       "      <td>0</td>\n",
       "      <td>0</td>\n",
       "      <td>0</td>\n",
       "      <td>...</td>\n",
       "      <td>0</td>\n",
       "      <td>0</td>\n",
       "      <td>0</td>\n",
       "      <td>0</td>\n",
       "      <td>0</td>\n",
       "      <td>0</td>\n",
       "      <td>0</td>\n",
       "      <td>0</td>\n",
       "      <td>0</td>\n",
       "      <td>0</td>\n",
       "    </tr>\n",
       "    <tr>\n",
       "      <th>812</th>\n",
       "      <td>0</td>\n",
       "      <td>0</td>\n",
       "      <td>0</td>\n",
       "      <td>0</td>\n",
       "      <td>0</td>\n",
       "      <td>0</td>\n",
       "      <td>0</td>\n",
       "      <td>0</td>\n",
       "      <td>0</td>\n",
       "      <td>0</td>\n",
       "      <td>...</td>\n",
       "      <td>0</td>\n",
       "      <td>0</td>\n",
       "      <td>0</td>\n",
       "      <td>0</td>\n",
       "      <td>0</td>\n",
       "      <td>0</td>\n",
       "      <td>0</td>\n",
       "      <td>0</td>\n",
       "      <td>0</td>\n",
       "      <td>0</td>\n",
       "    </tr>\n",
       "    <tr>\n",
       "      <th>813</th>\n",
       "      <td>0</td>\n",
       "      <td>0</td>\n",
       "      <td>0</td>\n",
       "      <td>0</td>\n",
       "      <td>0</td>\n",
       "      <td>0</td>\n",
       "      <td>0</td>\n",
       "      <td>0</td>\n",
       "      <td>0</td>\n",
       "      <td>0</td>\n",
       "      <td>...</td>\n",
       "      <td>0</td>\n",
       "      <td>0</td>\n",
       "      <td>0</td>\n",
       "      <td>0</td>\n",
       "      <td>0</td>\n",
       "      <td>0</td>\n",
       "      <td>0</td>\n",
       "      <td>0</td>\n",
       "      <td>0</td>\n",
       "      <td>0</td>\n",
       "    </tr>\n",
       "    <tr>\n",
       "      <th>814</th>\n",
       "      <td>0</td>\n",
       "      <td>0</td>\n",
       "      <td>0</td>\n",
       "      <td>0</td>\n",
       "      <td>0</td>\n",
       "      <td>0</td>\n",
       "      <td>0</td>\n",
       "      <td>0</td>\n",
       "      <td>0</td>\n",
       "      <td>0</td>\n",
       "      <td>...</td>\n",
       "      <td>0</td>\n",
       "      <td>0</td>\n",
       "      <td>0</td>\n",
       "      <td>0</td>\n",
       "      <td>0</td>\n",
       "      <td>0</td>\n",
       "      <td>0</td>\n",
       "      <td>0</td>\n",
       "      <td>0</td>\n",
       "      <td>0</td>\n",
       "    </tr>\n",
       "  </tbody>\n",
       "</table>\n",
       "<p>5 rows × 10000 columns</p>\n",
       "</div>"
      ],
      "text/plain": [
       "     000cm³ probably  000cm³ probably fine  000cm³ probably fine training  \\\n",
       "810                0                     0                              0   \n",
       "811                0                     0                              0   \n",
       "812                0                     0                              0   \n",
       "813                0                     0                              0   \n",
       "814                0                     0                              0   \n",
       "\n",
       "     01 https  01 https imgur  01 https imgur com  02 https  02 https imgur  \\\n",
       "810         0               0                   0         0               0   \n",
       "811         0               0                   0         0               0   \n",
       "812         0               0                   0         0               0   \n",
       "813         0               0                   0         0               0   \n",
       "814         0               0                   0         0               0   \n",
       "\n",
       "     02 https imgur com  03 https            ...             youtube user  \\\n",
       "810                   0         0            ...                        0   \n",
       "811                   0         0            ...                        0   \n",
       "812                   0         0            ...                        0   \n",
       "813                   0         0            ...                        0   \n",
       "814                   0         0            ...                        0   \n",
       "\n",
       "     youtube user page  youtube user page thanks  youtuber lolz  yup moody  \\\n",
       "810                  0                         0              0          0   \n",
       "811                  0                         0              0          0   \n",
       "812                  0                         0              0          0   \n",
       "813                  0                         0              0          0   \n",
       "814                  0                         0              0          0   \n",
       "\n",
       "     yup moody dorfs  yup moody dorfs build  zombies later  \\\n",
       "810                0                      0              0   \n",
       "811                0                      0              0   \n",
       "812                0                      0              0   \n",
       "813                0                      0              0   \n",
       "814                0                      0              0   \n",
       "\n",
       "     zombies later horned  zombies later horned web  \n",
       "810                     0                         0  \n",
       "811                     0                         0  \n",
       "812                     0                         0  \n",
       "813                     0                         0  \n",
       "814                     0                         0  \n",
       "\n",
       "[5 rows x 10000 columns]"
      ]
     },
     "execution_count": 28,
     "metadata": {},
     "output_type": "execute_result"
    }
   ],
   "source": [
    "text = pd.DataFrame(X_train_counts.toarray(), columns=count_vect.get_feature_names())\n",
    "text.tail(5)"
   ]
  },
  {
   "cell_type": "markdown",
   "metadata": {},
   "source": [
    "#### Random Forest Classifier"
   ]
  },
  {
   "cell_type": "code",
   "execution_count": 29,
   "metadata": {},
   "outputs": [
    {
     "name": "stdout",
     "output_type": "stream",
     "text": [
      "Classification Report:\n",
      "             precision    recall  f1-score   support\n",
      "\n",
      "  DwarfFort       1.00      0.13      0.24        82\n",
      "  Stellaris       0.73      1.00      0.84       190\n",
      "\n",
      "avg / total       0.81      0.74      0.66       272\n",
      "\n",
      "Accuracy Score train:\n",
      "0.7263803680981595\n",
      "Accuracy Score test:\n",
      "0.7389705882352942\n"
     ]
    },
    {
     "data": {
      "image/png": "[encoded data removed]",
      "text/plain": [
       "<Figure size 432x288 with 2 Axes>"
      ]
     },
     "metadata": {
      "needs_background": "light"
     },
     "output_type": "display_data"
    },
    {
     "data": {
      "image/png": "[encoded data removed]",
      "text/plain": [
       "<Figure size 432x288 with 2 Axes>"
      ]
     },
     "metadata": {
      "needs_background": "light"
     },
     "output_type": "display_data"
    },
    {
     "data": {
      "text/plain": [
       "<Figure size 432x288 with 0 Axes>"
      ]
     },
     "metadata": {},
     "output_type": "display_data"
    }
   ],
   "source": [
    "# instance model\n",
    "model = RandomForestClassifier(n_estimators=1000, max_depth=5)\n",
    "# fit model\n",
    "model.fit(X=X_train_counts, y=y_train)\n",
    "\n",
    "performance(model, X_train_counts, X_test_counts)"
   ]
  },
  {
   "cell_type": "markdown",
   "metadata": {},
   "source": [
    "#### SGD Classifier"
   ]
  },
  {
   "cell_type": "code",
   "execution_count": 30,
   "metadata": {},
   "outputs": [
    {
     "name": "stdout",
     "output_type": "stream",
     "text": [
      "Classification Report:\n",
      "             precision    recall  f1-score   support\n",
      "\n",
      "  DwarfFort       0.74      0.62      0.68        82\n",
      "  Stellaris       0.85      0.91      0.88       190\n",
      "\n",
      "avg / total       0.81      0.82      0.82       272\n",
      "\n",
      "Accuracy Score train:\n",
      "0.9607361963190184\n",
      "Accuracy Score test:\n",
      "0.8198529411764706\n"
     ]
    },
    {
     "data": {
      "image/png": "[encoded data removed]",
      "text/plain": [
       "<Figure size 432x288 with 2 Axes>"
      ]
     },
     "metadata": {
      "needs_background": "light"
     },
     "output_type": "display_data"
    },
    {
     "data": {
      "image/png": "[encoded data removed]",
      "text/plain": [
       "<Figure size 432x288 with 2 Axes>"
      ]
     },
     "metadata": {
      "needs_background": "light"
     },
     "output_type": "display_data"
    },
    {
     "data": {
      "text/plain": [
       "<Figure size 432x288 with 0 Axes>"
      ]
     },
     "metadata": {},
     "output_type": "display_data"
    }
   ],
   "source": [
    "# instance model\n",
    "model = SGDClassifier()\n",
    "# fit model\n",
    "model.fit(X=X_train_counts, y=y_train)\n",
    "\n",
    "performance(model, X_train_counts, X_test_counts)"
   ]
  },
  {
   "cell_type": "markdown",
   "metadata": {},
   "source": [
    "## Modelling with TFIDF Transformation\n",
    "\n",
    "Using n-gram features caused decreased our model performance, so the context of individual words likely is not important compared to simply what words are used.  Next we will test model accuracy using TFIDF transformation, to convert our count matrices to discount words that are used more commonly."
   ]
  },
  {
   "cell_type": "code",
   "execution_count": 31,
   "metadata": {},
   "outputs": [],
   "source": [
    "count_vect = TfidfVectorizer(max_features=10000,\n",
    "                             stop_words='english')\n",
    "X_train_tf = count_vect.fit_transform(X_train)\n",
    "X_test_tf = count_vect.transform(X_test)"
   ]
  },
  {
   "cell_type": "markdown",
   "metadata": {},
   "source": [
    "#### Random Forest Classifier"
   ]
  },
  {
   "cell_type": "code",
   "execution_count": 32,
   "metadata": {},
   "outputs": [
    {
     "name": "stdout",
     "output_type": "stream",
     "text": [
      "Classification Report:\n",
      "             precision    recall  f1-score   support\n",
      "\n",
      "  DwarfFort       1.00      0.15      0.26        82\n",
      "  Stellaris       0.73      1.00      0.84       190\n",
      "\n",
      "avg / total       0.81      0.74      0.67       272\n",
      "\n",
      "Accuracy Score train:\n",
      "0.7644171779141105\n",
      "Accuracy Score test:\n",
      "0.7426470588235294\n"
     ]
    },
    {
     "data": {
      "image/png": "[encoded data removed]",
      "text/plain": [
       "<Figure size 432x288 with 2 Axes>"
      ]
     },
     "metadata": {
      "needs_background": "light"
     },
     "output_type": "display_data"
    },
    {
     "data": {
      "image/png": "[encoded data removed]",
      "text/plain": [
       "<Figure size 432x288 with 2 Axes>"
      ]
     },
     "metadata": {
      "needs_background": "light"
     },
     "output_type": "display_data"
    },
    {
     "data": {
      "text/plain": [
       "<Figure size 432x288 with 0 Axes>"
      ]
     },
     "metadata": {},
     "output_type": "display_data"
    }
   ],
   "source": [
    "# instance model\n",
    "model = RandomForestClassifier(n_estimators=1000, max_depth=5)\n",
    "# fit model\n",
    "model.fit(X=X_train_tf, y=y_train)\n",
    "\n",
    "performance(model, X_train_tf, X_test_tf)"
   ]
  },
  {
   "cell_type": "markdown",
   "metadata": {},
   "source": [
    "#### SGD Classifier"
   ]
  },
  {
   "cell_type": "code",
   "execution_count": 33,
   "metadata": {},
   "outputs": [
    {
     "name": "stdout",
     "output_type": "stream",
     "text": [
      "Classification Report:\n",
      "             precision    recall  f1-score   support\n",
      "\n",
      "  DwarfFort       0.90      0.87      0.88        82\n",
      "  Stellaris       0.94      0.96      0.95       190\n",
      "\n",
      "avg / total       0.93      0.93      0.93       272\n",
      "\n",
      "Accuracy Score train:\n",
      "1.0\n",
      "Accuracy Score test:\n",
      "0.9301470588235294\n"
     ]
    },
    {
     "data": {
      "image/png": "[encoded data removed]",
      "text/plain": [
       "<Figure size 432x288 with 2 Axes>"
      ]
     },
     "metadata": {
      "needs_background": "light"
     },
     "output_type": "display_data"
    },
    {
     "data": {
      "image/png": "[encoded data removed]",
      "text/plain": [
       "<Figure size 432x288 with 2 Axes>"
      ]
     },
     "metadata": {
      "needs_background": "light"
     },
     "output_type": "display_data"
    },
    {
     "data": {
      "text/plain": [
       "<Figure size 432x288 with 0 Axes>"
      ]
     },
     "metadata": {},
     "output_type": "display_data"
    }
   ],
   "source": [
    "# instance model\n",
    "model = SGDClassifier()\n",
    "# fit model\n",
    "model.fit(X=X_train_tf, y=y_train)\n",
    "\n",
    "performance(model, X_train_tf, X_test_tf)"
   ]
  },
  {
   "cell_type": "markdown",
   "metadata": {},
   "source": [
    "## Model Examination\n",
    "\n",
    "TFIDF vectorizer performed well, slight improvement over count vectorizer.  We'll examine where it failed, and investigate why it might have failed.  Possibly the mis-classified comments are not possible for a human to classify either, even with knowledge of the subject matter for each topic."
   ]
  },
  {
   "cell_type": "code",
   "execution_count": 34,
   "metadata": {},
   "outputs": [],
   "source": [
    "misclassified = np.where(y_test != model.predict(X_test_tf))\n",
    "preds = model.predict(X_test_tf)"
   ]
  },
  {
   "cell_type": "code",
   "execution_count": 35,
   "metadata": {},
   "outputs": [
    {
     "name": "stdout",
     "output_type": "stream",
     "text": [
      "Post incorrectly predicted to be: DwarfFort\n",
      "['gaia:  *an ideal, temperate world with a nitrogen-oxygen atmosphere and a resilient ecosystem. optimal conditions for all known higher forms of life at different latitudes.* \\r\\n\\r\\ncontinental:  *rocky world with a nitrogen-oxygen atmosphere. active and stable hydrosphere. great landmasses are separated by oceans,* ***with large climate variations depending on latitude and precipitation.***\\r\\n\\r\\nthese seem pretty much identical to me since earth has all the climates we see in game except for nuclear winter.']\n",
      "\n",
      "Post incorrectly predicted to be: DwarfFort\n",
      "['&amp;#x200b;\\r\\n\\r\\nhttps://i.redd.it/fcy7l968ji421.png\\r\\n\\r\\n&amp;#x200b;\\r\\n\\r\\nhttps://i.redd.it/g18cf38aji421.png']\n",
      "\n",
      "Post incorrectly predicted to be: DwarfFort\n",
      "['for example if i want to have an empire centered around human refugees from earth living on an ocean world. humans can live there, but they\\'d rather be on a continental world.\\r\\n\\r\\nan alternative could be a \"refugee regime\" ethic, where you could create an original home world kind of like how syncretic evolution lets you design a syncretic species. \\r\\n\\r\\nmaybe both could work together, enabling your species to be native to a tomb world that used to be an continental world, but now live on a jungle moon somewhere.']\n",
      "\n",
      "Post incorrectly predicted to be: DwarfFort\n",
      "['what are some of your fun scenarios that you’d like others to try?']\n",
      "\n",
      "Post incorrectly predicted to be: Stellaris\n",
      "[\"toady: this update will be where i work on villains and it'll be done by year's end!\\r\\n\\r\\ntoady a month later: so i added merchant guilds, religions, marketplace organization and castles.  now i can finally work on villains!\\r\\n\\r\\ni'm so hyped.\"]\n",
      "\n",
      "Post incorrectly predicted to be: DwarfFort\n",
      "[\"&amp;#x200b;\\r\\n\\r\\n[i think that's the first time i seen both in the same system.](https://i.redd.it/lu5hiyz9ja421.png)\"]\n",
      "\n",
      "Post incorrectly predicted to be: Stellaris\n",
      "[\"working on another update for the meph tileset, just wondering what's of interest to you. :)\"]\n",
      "\n",
      "Post incorrectly predicted to be: Stellaris\n",
      "[\"i wanted to compile some of the best designs and tactics the community has to offer. please feel free to post some of your favorites, be they what you've built, seen, or even just thought about.\"]\n",
      "\n",
      "Post incorrectly predicted to be: Stellaris\n",
      "['all invited to join, share your hilarious anecdotes, ideas and get help!\\r\\nt.me/dwarffortressen']\n",
      "\n",
      "Post incorrectly predicted to be: Stellaris\n",
      "[\"i'm looking to try building a castle for my next fortress and trying to get some ideas.  i want it to be loosely based on kaer morhen from the witcher series and i have the basic idea of what i want the layout to be like, but beyond that i really don't know where to go from there.  can anyone who'se built a castle in df help me figure out what exactly i should be doing or share a pacture of their castle to give me some inspiration?\\r\\n\\r\\n&amp;#x200b;\\r\\n\\r\\nthanks in advance!\"]\n",
      "\n",
      "Post incorrectly predicted to be: DwarfFort\n",
      "['&amp;#x200b;\\r\\n\\r\\nhttps://i.redd.it/z4fn2i2p4l421.png']\n",
      "\n",
      "Post incorrectly predicted to be: Stellaris\n",
      "['yay! thanks to /u/insert_gnome_here for being the first to report it being back up!']\n",
      "\n",
      "Post incorrectly predicted to be: Stellaris\n",
      "['pretty much that. i find it disappointing i can have a top level cpu and gpu, yet play lowering the 4x4 starting grid to 2x2, and still have to optimise my builds and strategy to limit my fps plummeting']\n",
      "\n",
      "Post incorrectly predicted to be: DwarfFort\n",
      "[\"the reason for this is simple: castor is a hexinary star system and it's really neat.\\r\\n\\r\\na and b orbit each other and that whole group is orbited by c but! all 3 sets are actually binaries with white dwarves.\\r\\n\\r\\nwould be a really fun system to have in there.\\r\\n\\r\\ni've not tried my hand at modding or i'd try to make it myself.\"]\n",
      "\n",
      "Post incorrectly predicted to be: Stellaris\n",
      "[\"i started playing last night alongside a guide on youtube, and played for hours. i'm unfortunately going on a road trip today, so i won't be able to play again for a while :( but i was wondering if you guys had any tips or advice that is important but not obvious? i started playing with the starter kit if that matters. i'm super excited to play again, i just feel like i'm not sure what to do with all the options provided.\"]\n",
      "\n",
      "Post incorrectly predicted to be: Stellaris\n",
      "['have to say, if you’ve never tried living like the tall folk you really ought to give it a go. nothing better than having palisades to make it rain steel bolts down onto some tree huggers ']\n",
      "\n",
      "Post incorrectly predicted to be: DwarfFort\n",
      "['what the tittle ask. why are you even reading this?']\n",
      "\n",
      "Post incorrectly predicted to be: Stellaris\n",
      "[\"are there any dwarfy podcasts? don't have a ton of time to play these days but i'd love to tune in to something like a podcast. anyone got any recs?\"]\n",
      "\n",
      "Post incorrectly predicted to be: Stellaris\n",
      "['i haven’t seen it anywhere so i propose schistposting']\n",
      "\n"
     ]
    }
   ],
   "source": [
    "for x in misclassified:\n",
    "    for y in x:\n",
    "        s = slice(y,y+1)\n",
    "        print('Post incorrectly predicted to be: ' + preds[y])\n",
    "        print(X_test[s].values)\n",
    "        print('')"
   ]
  },
  {
   "cell_type": "markdown",
   "metadata": {},
   "source": [
    "#### Reviewing Errors in detail\n",
    "\n",
    "Phrases with errors will vary based on the selection of words from the API, and it will vary on the train/test split.  Using the initial CSV's provided with this project, we can review some errors and see why they didn't work."
   ]
  },
  {
   "cell_type": "markdown",
   "metadata": {},
   "source": [
    "Post incorrectly predicted to be: Stellaris<br>\n",
    "[\"are there any dwarfy podcasts? don't have a ton of time to play these days but i'd love to tune in to something like a podcast. anyone got any recs?\"]<br><br>\n",
    "The word 'dwarfy' sounds like it should below with Dwarf Fortress, however it occurs only very rarely in the post selection (only 3 times)."
   ]
  },
  {
   "cell_type": "code",
   "execution_count": 51,
   "metadata": {},
   "outputs": [
    {
     "data": {
      "text/plain": [
       "[2006]"
      ]
     },
     "execution_count": 51,
     "metadata": {},
     "output_type": "execute_result"
    }
   ],
   "source": [
    "[i for i, s in enumerate(words_freq) if 'dwarfy' in s]"
   ]
  },
  {
   "cell_type": "code",
   "execution_count": 52,
   "metadata": {},
   "outputs": [
    {
     "data": {
      "text/plain": [
       "[('dwarfy', 3)]"
      ]
     },
     "execution_count": 52,
     "metadata": {},
     "output_type": "execute_result"
    }
   ],
   "source": [
    "words_freq[2006:2007]"
   ]
  },
  {
   "cell_type": "markdown",
   "metadata": {},
   "source": [
    "Post incorrectly predicted to be: DwarfFort <br>\n",
    "[\"the reason for this is simple: castor is a hexinary star system and it's really neat.\\r\\n\\r\\na and b orbit each other and that whole group is orbited by c but! all 3 sets are actually binaries with white dwarves.\\r\\n\\r\\nwould be a really fun system to have in there.\\r\\n\\r\\ni've not tried my hand at modding or i'd try to make it myself.\"]<br><br>\n",
    "Based on the language of the post, it's easy to see why it would mis-classify it as Dwarf Fortress, even though write dwarf is a type of star."
   ]
  },
  {
   "cell_type": "markdown",
   "metadata": {},
   "source": [
    "## Conclusion\n",
    "\n",
    "The best performing model was SGD classifier, using TFIDF vectorizer, with no n_gram features.  Training and testing accuracy were both 90%+, depending on the train/test sample, with a slight overfitting.\n",
    "\n",
    "Reviewing the incorrectly predicted posts, most don't clearly stand out as easy for a human to predict even with previous knowledge of the two subreddits.  Further hyperparameter tunning is unlikely to gain much more accuracy based on these Reddit selections, default standard parameters worked well.  "
   ]
  },
  {
   "cell_type": "code",
   "execution_count": null,
   "metadata": {},
   "outputs": [],
   "source": []
  }
 ],
 "metadata": {
  "kernelspec": {
   "display_name": "Python 3",
   "language": "python",
   "name": "python3"
  },
  "language_info": {
   "codemirror_mode": {
    "name": "ipython",
    "version": 3
   },
   "file_extension": ".py",
   "mimetype": "text/x-python",
   "name": "python",
   "nbconvert_exporter": "python",
   "pygments_lexer": "ipython3",
   "version": "3.7.0"
  }
 },
 "nbformat": 4,
 "nbformat_minor": 2
}
