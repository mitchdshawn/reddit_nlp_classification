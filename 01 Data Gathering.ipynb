{
 "cells": [
  {
   "cell_type": "markdown",
   "metadata": {},
   "source": [
    "#### Notebook Summary\n",
    "Notebook 01 contains data importing.\n",
    "\n",
    "## Executive summary\n",
    "Using NLP techniques, we can create a highly accurate classification model that will automatically differentiate between categories for Reddit comments.  Misclassified comments are usually ones that a human with previous knowledge of the two sub-Reddits would not be able to classify, when only looking at the comment text and not the previous conversation they were part of.\n",
    "\n",
    "The model will work any two sub-Reddits, the default used here were for the two games Stellaris and Dwarf Fortress.\n",
    "\n",
    "\n",
    "## Data science problem\n",
    "Are the comments between two given sub-Reddits significantly different enough for a machine learning model to categorize the comments into their respective groups?\n",
    "\n",
    "\n",
    "## Requirements\n",
    "Python 3.6+, pandas, re, scikitlearn, time, seaborn, itertools, warnings\n",
    "\n",
    "## Index\n",
    "\n",
    "- [SPI Setup](#API-Setup)\n",
    "- [Reddit Comment Import](#Reddit-Comment-Import)\n",
    "- [Convert to Dataframe](#Convert-to-Dataframe)\n",
    "- [Save Comments as CSV's](#Save-Comments-as-CSV's)"
   ]
  },
  {
   "cell_type": "markdown",
   "metadata": {},
   "source": [
    "## API Setup\n",
    "\n",
    "API will be setup and tested to ensure status code 200 (no problems with connection)."
   ]
  },
  {
   "cell_type": "code",
   "execution_count": 1,
   "metadata": {},
   "outputs": [],
   "source": [
    "# imports\n",
    "import requests\n",
    "import time\n",
    "import pandas as pd\n",
    "import re"
   ]
  },
  {
   "cell_type": "code",
   "execution_count": 2,
   "metadata": {},
   "outputs": [
    {
     "data": {
      "text/plain": [
       "200"
      ]
     },
     "execution_count": 2,
     "metadata": {},
     "output_type": "execute_result"
    }
   ],
   "source": [
    "# set up API\n",
    "url = 'https://www.reddit.com/hot.json'\n",
    "headers = {'User-agent': 'DSI SDbot'}\n",
    "res = requests.get(url, headers = headers)\n",
    "res.status_code"
   ]
  },
  {
   "cell_type": "code",
   "execution_count": 3,
   "metadata": {},
   "outputs": [
    {
     "data": {
      "text/plain": [
       "['data', 'kind']"
      ]
     },
     "execution_count": 3,
     "metadata": {},
     "output_type": "execute_result"
    }
   ],
   "source": [
    "the_json = res.json()\n",
    "sorted(the_json.keys())"
   ]
  },
  {
   "cell_type": "code",
   "execution_count": 4,
   "metadata": {},
   "outputs": [],
   "source": [
    " # Naming the URL objects\n",
    "subreddit_1 = 'stellaris'\n",
    "subreddit_2 = 'dwarffortress'\n",
    "\n",
    "subreddit_1_url = f\"https://www.reddit.com/r/{subreddit_1}/.json\" \n",
    "subreddit_2_url = f'https://www.reddit.com/r/{subreddit_2}/.json' "
   ]
  },
  {
   "cell_type": "markdown",
   "metadata": {},
   "source": [
    "## Reddit Comment Import\n",
    "\n",
    "Reddit comments will be imported using the API."
   ]
  },
  {
   "cell_type": "code",
   "execution_count": 5,
   "metadata": {},
   "outputs": [],
   "source": [
    "posts_1 = []\n",
    "after = None\n",
    "for _ in range(40):\n",
    "    if after == None:\n",
    "        params = {}\n",
    "    else:\n",
    "        params = {'after': after}\n",
    "    res = requests.get(subreddit_1_url, params=params, headers=headers)\n",
    "    if res.status_code == 200:\n",
    "        the_json = res.json()\n",
    "        posts_1.extend(the_json['data']['children'])\n",
    "        after = the_json['data']['after']\n",
    "    else:\n",
    "        print(res.status_code)\n",
    "        break\n",
    "    time.sleep(1)"
   ]
  },
  {
   "cell_type": "code",
   "execution_count": 6,
   "metadata": {},
   "outputs": [
    {
     "data": {
      "text/plain": [
       "991"
      ]
     },
     "execution_count": 6,
     "metadata": {},
     "output_type": "execute_result"
    }
   ],
   "source": [
    "len(posts_1)"
   ]
  },
  {
   "cell_type": "code",
   "execution_count": 7,
   "metadata": {},
   "outputs": [],
   "source": [
    "posts_2 = []\n",
    "after = None\n",
    "for _ in range(40):\n",
    "    if after == None:\n",
    "        params = {}\n",
    "    else:\n",
    "        params = {'after': after}\n",
    "    res = requests.get(subreddit_2_url, params=params, headers=headers)\n",
    "    if res.status_code == 200:\n",
    "        the_json = res.json()\n",
    "        posts_2.extend(the_json['data']['children'])\n",
    "        after = the_json['data']['after']\n",
    "    else:\n",
    "        print(res.status_code)\n",
    "        break\n",
    "    time.sleep(1)"
   ]
  },
  {
   "cell_type": "code",
   "execution_count": 8,
   "metadata": {},
   "outputs": [
    {
     "data": {
      "text/plain": [
       "992"
      ]
     },
     "execution_count": 8,
     "metadata": {},
     "output_type": "execute_result"
    }
   ],
   "source": [
    "len(posts_2)"
   ]
  },
  {
   "cell_type": "markdown",
   "metadata": {},
   "source": [
    "## Convert to Dataframe\n",
    "\n",
    "Reddit comments will be converted to a pandas dataframe, all words will be lowercased.  Invalid common string &amp;#x200B; will be blanked out."
   ]
  },
  {
   "cell_type": "code",
   "execution_count": 9,
   "metadata": {
    "scrolled": true
   },
   "outputs": [
    {
     "data": {
      "text/html": [
       "<div>\n",
       "<style scoped>\n",
       "    .dataframe tbody tr th:only-of-type {\n",
       "        vertical-align: middle;\n",
       "    }\n",
       "\n",
       "    .dataframe tbody tr th {\n",
       "        vertical-align: top;\n",
       "    }\n",
       "\n",
       "    .dataframe thead th {\n",
       "        text-align: right;\n",
       "    }\n",
       "</style>\n",
       "<table border=\"1\" class=\"dataframe\">\n",
       "  <thead>\n",
       "    <tr style=\"text-align: right;\">\n",
       "      <th></th>\n",
       "      <th>Comment</th>\n",
       "    </tr>\n",
       "  </thead>\n",
       "  <tbody>\n",
       "    <tr>\n",
       "      <th>0</th>\n",
       "      <td>every december, the admins give reddit moderat...</td>\n",
       "    </tr>\n",
       "    <tr>\n",
       "      <th>1</th>\n",
       "      <td>**greetings!**\\n\\*^(\\*rules and conditions may...</td>\n",
       "    </tr>\n",
       "    <tr>\n",
       "      <th>2</th>\n",
       "      <td>to establish a branch office!</td>\n",
       "    </tr>\n",
       "    <tr>\n",
       "      <th>3</th>\n",
       "      <td>this is not a new idea, but it has become espe...</td>\n",
       "    </tr>\n",
       "    <tr>\n",
       "      <th>4</th>\n",
       "      <td>a lot of perks and what not have things \"we\" a...</td>\n",
       "    </tr>\n",
       "  </tbody>\n",
       "</table>\n",
       "</div>"
      ],
      "text/plain": [
       "                                             Comment\n",
       "0  every december, the admins give reddit moderat...\n",
       "1  **greetings!**\\n\\*^(\\*rules and conditions may...\n",
       "2                      to establish a branch office!\n",
       "3  this is not a new idea, but it has become espe...\n",
       "4  a lot of perks and what not have things \"we\" a..."
      ]
     },
     "execution_count": 9,
     "metadata": {},
     "output_type": "execute_result"
    }
   ],
   "source": [
    "d = {'Comment': []}\n",
    "df_1 = pd.DataFrame(data=d)\n",
    "for p in range(len(posts_1)):\n",
    "    new_entry = posts_1[p]['data']['selftext'].lower()\n",
    "    if new_entry.strip():\n",
    "        new_entry.replace('','')\n",
    "        df_1 = df_1.append({'Comment': new_entry}, ignore_index=True)\n",
    "df_1['Comment'].replace('&amp;#x200B;','',regex=True,inplace=True)\n",
    "df_1.head()"
   ]
  },
  {
   "cell_type": "code",
   "execution_count": 10,
   "metadata": {},
   "outputs": [
    {
     "data": {
      "text/html": [
       "<div>\n",
       "<style scoped>\n",
       "    .dataframe tbody tr th:only-of-type {\n",
       "        vertical-align: middle;\n",
       "    }\n",
       "\n",
       "    .dataframe tbody tr th {\n",
       "        vertical-align: top;\n",
       "    }\n",
       "\n",
       "    .dataframe thead th {\n",
       "        text-align: right;\n",
       "    }\n",
       "</style>\n",
       "<table border=\"1\" class=\"dataframe\">\n",
       "  <thead>\n",
       "    <tr style=\"text-align: right;\">\n",
       "      <th></th>\n",
       "      <th>Comment</th>\n",
       "    </tr>\n",
       "  </thead>\n",
       "  <tbody>\n",
       "    <tr>\n",
       "      <th>0</th>\n",
       "      <td>ask about anything related to dwarf fortress -...</td>\n",
       "    </tr>\n",
       "    <tr>\n",
       "      <th>1</th>\n",
       "      <td>i am a fairly new player and am still trying t...</td>\n",
       "    </tr>\n",
       "    <tr>\n",
       "      <th>2</th>\n",
       "      <td>anytime i try to gen a world now, it rejects t...</td>\n",
       "    </tr>\n",
       "    <tr>\n",
       "      <th>3</th>\n",
       "      <td>wait i think i have it. a safe material drop c...</td>\n",
       "    </tr>\n",
       "    <tr>\n",
       "      <th>4</th>\n",
       "      <td>how do you organize pasturing space in your fo...</td>\n",
       "    </tr>\n",
       "  </tbody>\n",
       "</table>\n",
       "</div>"
      ],
      "text/plain": [
       "                                             Comment\n",
       "0  ask about anything related to dwarf fortress -...\n",
       "1  i am a fairly new player and am still trying t...\n",
       "2  anytime i try to gen a world now, it rejects t...\n",
       "3  wait i think i have it. a safe material drop c...\n",
       "4  how do you organize pasturing space in your fo..."
      ]
     },
     "execution_count": 10,
     "metadata": {},
     "output_type": "execute_result"
    }
   ],
   "source": [
    "d = {'Comment': []}\n",
    "df_2 = pd.DataFrame(data=d)\n",
    "for p in range(len(posts_2)):\n",
    "    new_entry = posts_2[p]['data']['selftext'].lower()\n",
    "    if new_entry.strip():\n",
    "        df_2 = df_2.append({'Comment': new_entry}, ignore_index=True)\n",
    "df_2['Comment'].replace('&amp;#x200B;','',regex=True,inplace=True)\n",
    "df_2.head()"
   ]
  },
  {
   "cell_type": "code",
   "execution_count": 11,
   "metadata": {},
   "outputs": [
    {
     "data": {
      "text/html": [
       "<div>\n",
       "<style scoped>\n",
       "    .dataframe tbody tr th:only-of-type {\n",
       "        vertical-align: middle;\n",
       "    }\n",
       "\n",
       "    .dataframe tbody tr th {\n",
       "        vertical-align: top;\n",
       "    }\n",
       "\n",
       "    .dataframe thead th {\n",
       "        text-align: right;\n",
       "    }\n",
       "</style>\n",
       "<table border=\"1\" class=\"dataframe\">\n",
       "  <thead>\n",
       "    <tr style=\"text-align: right;\">\n",
       "      <th></th>\n",
       "      <th>Comment</th>\n",
       "    </tr>\n",
       "  </thead>\n",
       "  <tbody>\n",
       "    <tr>\n",
       "      <th>0</th>\n",
       "      <td>ask about anything related to dwarf fortress -...</td>\n",
       "    </tr>\n",
       "    <tr>\n",
       "      <th>1</th>\n",
       "      <td>i am a fairly new player and am still trying t...</td>\n",
       "    </tr>\n",
       "    <tr>\n",
       "      <th>2</th>\n",
       "      <td>anytime i try to gen a world now, it rejects t...</td>\n",
       "    </tr>\n",
       "    <tr>\n",
       "      <th>3</th>\n",
       "      <td>wait i think i have it. a safe material drop c...</td>\n",
       "    </tr>\n",
       "    <tr>\n",
       "      <th>4</th>\n",
       "      <td>how do you organize pasturing space in your fo...</td>\n",
       "    </tr>\n",
       "  </tbody>\n",
       "</table>\n",
       "</div>"
      ],
      "text/plain": [
       "                                             Comment\n",
       "0  ask about anything related to dwarf fortress -...\n",
       "1  i am a fairly new player and am still trying t...\n",
       "2  anytime i try to gen a world now, it rejects t...\n",
       "3  wait i think i have it. a safe material drop c...\n",
       "4  how do you organize pasturing space in your fo..."
      ]
     },
     "execution_count": 11,
     "metadata": {},
     "output_type": "execute_result"
    }
   ],
   "source": [
    "df_2.head()"
   ]
  },
  {
   "cell_type": "markdown",
   "metadata": {},
   "source": [
    "## Save Comments as CSV's\n",
    "\n",
    "Comment dataframes will be saved as CSV's for future use, and to ensure the API import isn't required for the analysis and model evaluation."
   ]
  },
  {
   "cell_type": "code",
   "execution_count": 12,
   "metadata": {},
   "outputs": [],
   "source": [
    "df_1.to_csv('./Data/data1.csv')\n",
    "df_2.to_csv('./Data/data2.csv')"
   ]
  },
  {
   "cell_type": "code",
   "execution_count": null,
   "metadata": {},
   "outputs": [],
   "source": []
  }
 ],
 "metadata": {
  "kernelspec": {
   "display_name": "Python 3",
   "language": "python",
   "name": "python3"
  },
  "language_info": {
   "codemirror_mode": {
    "name": "ipython",
    "version": 3
   },
   "file_extension": ".py",
   "mimetype": "text/x-python",
   "name": "python",
   "nbconvert_exporter": "python",
   "pygments_lexer": "ipython3",
   "version": "3.7.0"
  }
 },
 "nbformat": 4,
 "nbformat_minor": 2
}
